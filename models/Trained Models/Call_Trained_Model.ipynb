{
 "cells": [
  {
   "cell_type": "code",
   "execution_count": 4,
   "metadata": {},
   "outputs": [],
   "source": [
    "from Convolution import *\n",
    "from six.moves import cPickle as pickle"
   ]
  },
  {
   "cell_type": "code",
   "execution_count": null,
   "metadata": {},
   "outputs": [],
   "source": [
    "logdir=input(\"type the file path you store the data:\")"
   ]
  },
  {
   "cell_type": "code",
   "execution_count": 5,
   "metadata": {},
   "outputs": [],
   "source": [
    "# logdir=\"F://machine_learning//project//data//\"\n",
    "with open(logdir+\"train_set_cnn\",\"rb\") as f:\n",
    "    train_set=pickle.load(f)\n",
    "with open(logdir+\"valid_set_cnn\",\"rb\") as f:\n",
    "    valid_set=pickle.load(f)\n",
    "with open(logdir+\"test_set_cnn\",\"rb\") as f:\n",
    "    test_set=pickle.load(f)\n",
    "\n",
    "Y_train,X_train=train_set\n",
    "Y_valid,X_valid=valid_set\n",
    "Y_test,X_test=test_set"
   ]
  },
  {
   "cell_type": "code",
   "execution_count": 6,
   "metadata": {},
   "outputs": [
    {
     "data": {
      "text/plain": [
       "(3589, 48, 48, 1)"
      ]
     },
     "execution_count": 6,
     "metadata": {},
     "output_type": "execute_result"
    }
   ],
   "source": [
    "X_test.shape"
   ]
  },
  {
   "cell_type": "code",
   "execution_count": 25,
   "metadata": {},
   "outputs": [],
   "source": [
    "def CallModel(save_path,Xd,name=\"Conv32\"):\n",
    "    \"\"\"save_path is the file path you save the check point file and model meta graph, Xd is the new data you provide,name is what mdoel\\\n",
    "    you want to call (Conv32, Conv128, ResNet) default to Conv32\"\"\"\n",
    "    N,W,H,C=Xd.shape\n",
    "    tf.reset_default_graph()\n",
    "    if name==\"Conv32\":\n",
    "        model=ConvNet32(W,H,C,0.0005,0.35,0.15)\n",
    "    elif name==\"Conv128\":\n",
    "        model=ConvNet128(W,H,C,0.0005,0.5,0.05)\n",
    "    elif name==\"ResNet\":\n",
    "        model=ResNet(W,H,C,0.0001,0.4,0.25)\n",
    "    else:\n",
    "        raise NameError\n",
    "    saver=tf.train.Saver()\n",
    "    with tf.Session() as sess:\n",
    "        saver.restore(sess,save_path)\n",
    "        pred=model.Predict(sess,Xd)\n",
    "    return np.argmax(pred,axis=1)\n",
    "    "
   ]
  },
  {
   "cell_type": "code",
   "execution_count": 44,
   "metadata": {},
   "outputs": [
    {
     "name": "stdout",
     "output_type": "stream",
     "text": [
      "INFO:tensorflow:Restoring parameters from F:/machine_learning/project/Trained/deep/conv32\n",
      "INFO:tensorflow:Restoring parameters from F:/machine_learning/project/Trained/shallow/shallow\n",
      "INFO:tensorflow:Restoring parameters from F:/machine_learning/project/Trained/resnet/resnet\n"
     ]
    }
   ],
   "source": [
    "pred1_valid=CallModel('F:/machine_learning/project/Trained/deep/conv32',X_valid)\n",
    "pred2_valid=CallModel('F:/machine_learning/project/Trained/shallow/shallow',X_valid,\"Conv128\")\n",
    "pred3_valid=CallModel('F:/machine_learning/project/Trained/resnet/resnet',X_valid,\"ResNet\")"
   ]
  },
  {
   "cell_type": "code",
   "execution_count": 39,
   "metadata": {},
   "outputs": [
    {
     "name": "stdout",
     "output_type": "stream",
     "text": [
      "INFO:tensorflow:Restoring parameters from F:/machine_learning/project/Trained/deep/conv32\n",
      "INFO:tensorflow:Restoring parameters from F:/machine_learning/project/Trained/shallow/shallow\n",
      "INFO:tensorflow:Restoring parameters from F:/machine_learning/project/Trained/resnet/resnet\n"
     ]
    }
   ],
   "source": [
    "pred1_test=CallModel('F:/machine_learning/project/Trained/deep/conv32',X_test)\n",
    "pred2_test=CallModel('F:/machine_learning/project/Trained/shallow/shallow',X_test,\"Conv128\")\n",
    "pred3_test=CallModel('F:/machine_learning/project/Trained/resnet/resnet',X_test,\"ResNet\")"
   ]
  }
 ],
 "metadata": {
  "kernelspec": {
   "display_name": "Python 3",
   "language": "python",
   "name": "python3"
  },
  "language_info": {
   "codemirror_mode": {
    "name": "ipython",
    "version": 3
   },
   "file_extension": ".py",
   "mimetype": "text/x-python",
   "name": "python",
   "nbconvert_exporter": "python",
   "pygments_lexer": "ipython3",
   "version": "3.6.1"
  }
 },
 "nbformat": 4,
 "nbformat_minor": 2
}
